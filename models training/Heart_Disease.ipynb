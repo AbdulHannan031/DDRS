{
 "cells": [
  {
   "cell_type": "code",
   "execution_count": 5,
   "metadata": {},
   "outputs": [
    {
     "name": "stdout",
     "output_type": "stream",
     "text": [
      "Logistic Regression Train Accuracy: 0.8512, Test Accuracy: 0.8033\n",
      "Random Forest Train Accuracy: 1.0000, Test Accuracy: 0.8361\n",
      "Support Vector Machine Train Accuracy: 0.6529, Test Accuracy: 0.6557\n",
      "\n",
      "Best Model: Random Forest with Test Accuracy: 0.8361\n",
      "Best model saved as best_model_random_forest.pkl\n",
      "The person does not have heart disease.\n"
     ]
    },
    {
     "name": "stderr",
     "output_type": "stream",
     "text": [
      "C:\\Users\\Hackurr\\AppData\\Local\\Packages\\PythonSoftwareFoundation.Python.3.11_qbz5n2kfra8p0\\LocalCache\\local-packages\\Python311\\site-packages\\sklearn\\base.py:493: UserWarning: X does not have valid feature names, but RandomForestClassifier was fitted with feature names\n",
      "  warnings.warn(\n"
     ]
    }
   ],
   "source": [
    "import numpy as np\n",
    "import pandas as pd\n",
    "import pickle\n",
    "from sklearn.model_selection import train_test_split\n",
    "from sklearn.linear_model import LogisticRegression\n",
    "from sklearn.ensemble import RandomForestClassifier\n",
    "from sklearn.svm import SVC\n",
    "from sklearn.metrics import accuracy_score\n",
    "\n",
    "heart_data = pd.read_csv('datasets/heart.csv')\n",
    "\n",
    "X = heart_data.drop(columns='target', axis=1)\n",
    "Y = heart_data['target']\n",
    "\n",
    "X_train, X_test, Y_train, Y_test = train_test_split(X, Y, test_size=0.2, stratify=Y, random_state=42)\n",
    "\n",
    "models = {\n",
    "    \"Logistic Regression\": LogisticRegression(max_iter=120000),\n",
    "    \"Random Forest\": RandomForestClassifier(random_state=42),\n",
    "    \"Support Vector Machine\": SVC(probability=True, random_state=42)\n",
    "}\n",
    "\n",
    "best_model = None\n",
    "best_accuracy = 0\n",
    "best_model_name = \"\"\n",
    "\n",
    "for model_name, model in models.items():\n",
    "    model.fit(X_train, Y_train)\n",
    "    \n",
    "    train_predictions = model.predict(X_train)\n",
    "    test_predictions = model.predict(X_test)\n",
    "    \n",
    "    train_accuracy = accuracy_score(Y_train, train_predictions)\n",
    "    test_accuracy = accuracy_score(Y_test, test_predictions)\n",
    "    \n",
    "    print(f\"{model_name} Train Accuracy: {train_accuracy:.4f}, Test Accuracy: {test_accuracy:.4f}\")\n",
    "    \n",
    "    if test_accuracy > best_accuracy:\n",
    "        best_model = model\n",
    "        best_accuracy = test_accuracy\n",
    "        best_model_name = model_name\n",
    "\n",
    "print(f\"\\nBest Model: {best_model_name} with Test Accuracy: {best_accuracy:.4f}\")\n",
    "\n",
    "model_filename = f\"best_model_{best_model_name.replace(' ', '_').lower()}.pkl\"\n",
    "with open(model_filename, 'wb') as file:\n",
    "    pickle.dump(best_model, file)\n",
    "print(f\"Best model saved as {model_filename}\")\n",
    "\n",
    "input_data_str = ['62', '0', '0', '140', '268', '0', '0', '160', '0', '3.6', '0', '2', '2']\n",
    "input_data = np.array(input_data_str, dtype=float).reshape(1, -1)\n",
    "\n",
    "prediction = best_model.predict(input_data)\n",
    "\n",
    "if prediction[0] == 0:\n",
    "    print(\"The person does not have heart disease.\")\n",
    "else:\n",
    "    print(\"The person has heart disease.\")\n"
   ]
  }
 ],
 "metadata": {
  "kernelspec": {
   "display_name": "Python 3",
   "language": "python",
   "name": "python3"
  },
  "language_info": {
   "codemirror_mode": {
    "name": "ipython",
    "version": 3
   },
   "file_extension": ".py",
   "mimetype": "text/x-python",
   "name": "python",
   "nbconvert_exporter": "python",
   "pygments_lexer": "ipython3",
   "version": "3.11.9"
  }
 },
 "nbformat": 4,
 "nbformat_minor": 2
}
